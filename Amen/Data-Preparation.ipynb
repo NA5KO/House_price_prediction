{
 "cells": [
  {
   "cell_type": "code",
   "execution_count": 3,
   "id": "80d32c47-ed14-4a80-a5c4-4b01ca80f034",
   "metadata": {},
   "outputs": [
    {
     "name": "stdout",
     "output_type": "stream",
     "text": [
      "            Région        Prix   Modifiée\n",
      "0         Hammamet  15000000.0 2024-04-12\n",
      "1    Cite Ennasr 2  13000000.0 2024-04-12\n",
      "2    Le Kram Ouest       370.0 2024-04-12\n",
      "3  Jardins d'el Me      1800.0 2024-04-12\n",
      "4    Cite Ennasr 2       860.0 2024-04-12\n",
      "Nombre de lignes avec 'Prix' manquant : 3\n"
     ]
    }
   ],
   "source": [
    "import pandas as pd\n",
    "import matplotlib.pyplot as plt\n",
    "import seaborn as sns\n",
    "\n",
    "# Load the CSV file into a DataFrame\n",
    "data = pd.read_csv(\"real_estate_data_version_2.csv\")\n",
    "# Vérifier si 'Prix' est une chaîne, sinon convertir\n",
    "if data['Prix'].dtype != 'object':\n",
    "    data['Prix'] = data['Prix'].astype(str)\n",
    "\n",
    "# Nettoyage de la colonne \"Prix\"\n",
    "data['Prix'] = data['Prix'].str.replace(' ', '', regex=False)  # Supprimer les espaces\n",
    "data['Prix'] = data['Prix'].str.replace('[^0-9.]', '', regex=True)  # Garder uniquement les chiffres et '.'\n",
    "\n",
    "# Convertir en numérique (remplacer les erreurs par NaN)\n",
    "data['Prix'] = pd.to_numeric(data['Prix'], errors='coerce')\n",
    "\n",
    "# Convertir \"Modifiée\" en datetime\n",
    "data['Modifiée'] = pd.to_datetime(data['Modifiée'], errors='coerce')\n",
    "\n",
    "# Vérifier les résultats\n",
    "print(data[['Région', 'Prix', 'Modifiée']].head())\n",
    "print(f\"Nombre de lignes avec 'Prix' manquant : {data['Prix'].isnull().sum()}\")\n",
    "\n",
    "\n",
    "\n",
    "\n"
   ]
  },
  {
   "cell_type": "code",
   "execution_count": 5,
   "id": "ffc0c240-360d-48f9-a5ae-f551e87d5782",
   "metadata": {},
   "outputs": [
    {
     "name": "stdout",
     "output_type": "stream",
     "text": [
      "Nombre total de lignes : 1250\n",
      "Nombre de lignes avec un prix manquant : 3\n"
     ]
    }
   ],
   "source": [
    "missing_prices = data['Prix'].isnull().sum()\n",
    "total_rows = len(data)\n",
    "print(f\"Nombre total de lignes : {total_rows}\")\n",
    "print(f\"Nombre de lignes avec un prix manquant : {missing_prices}\")\n"
   ]
  },
  {
   "cell_type": "code",
   "execution_count": 7,
   "id": "2b4ff186-9e9e-432f-b126-a97e6813a331",
   "metadata": {},
   "outputs": [
    {
     "name": "stdout",
     "output_type": "stream",
     "text": [
      "             Région Nature         Type                  Texte annonce  \\\n",
      "0          Hammamet  Vente      Maisons           Villa a hammamet sud   \n",
      "1     Cite Ennasr 2  Vente      Maisons           Villa avec piscine a   \n",
      "18  Jardins de Cart  Vente  App. 3 pièc       Un appartement s3 vide m   \n",
      "19       El Mourouj  Vente  App. 3 pièc             Appartement nawres   \n",
      "24       El Mourouj  Vente  App. 4 pièc  Appartement mourouj 3 2 étage   \n",
      "\n",
      "          Prix   Modifiée  \n",
      "0   15000000.0 2024-04-12  \n",
      "1   13000000.0 2024-04-12  \n",
      "18    890000.0 2024-04-12  \n",
      "19    107000.0 2024-04-12  \n",
      "24    170000.0 2024-04-12  \n"
     ]
    }
   ],
   "source": [
    "# Garder uniquement les lignes où \"Nature\" est \"Vente\"\n",
    "data = data[data[\"Nature\"] == \"Vente\"]\n",
    "\n",
    "# Vérifier les premières lignes du nouveau DataFrame\n",
    "print(data.head())\n"
   ]
  },
  {
   "cell_type": "code",
   "execution_count": 9,
   "id": "ce839c49-eecb-4a64-a08e-8376fb1319a2",
   "metadata": {},
   "outputs": [
    {
     "name": "stdout",
     "output_type": "stream",
     "text": [
      "Données filtrées sauvegardées dans 'filtered_data.csv'.\n"
     ]
    }
   ],
   "source": [
    "data.to_csv(\"filtered_data.csv\", index=False, encoding=\"utf-8\")\n",
    "print(\"Données filtrées sauvegardées dans 'filtered_data.csv'.\")\n"
   ]
  },
  {
   "cell_type": "code",
   "execution_count": 11,
   "id": "f0fdc029-b198-4cc6-8b07-62e4f5e76860",
   "metadata": {},
   "outputs": [
    {
     "name": "stdout",
     "output_type": "stream",
     "text": [
      "Statistiques descriptives par région :\n",
      "                 Prix                                                         \\\n",
      "                count       mean        min        25%        50%        75%   \n",
      "Région                                                                         \n",
      "Ain Zaghouan      8.0   504500.0   160000.0   424500.0   560000.0   640000.0   \n",
      "Akouda            1.0  1550000.0  1550000.0  1550000.0  1550000.0  1550000.0   \n",
      "Ariana            4.0   400750.0    90000.0   174000.0   381500.0   608250.0   \n",
      "Arkou             1.0  1350000.0  1350000.0  1350000.0  1350000.0  1350000.0   \n",
      "Bab Bhar          2.0   245000.0   240000.0   242500.0   245000.0   247500.0   \n",
      "...               ...        ...        ...        ...        ...        ...   \n",
      "Soliman           1.0   140000.0   140000.0   140000.0   140000.0   140000.0   \n",
      "Zaghouan          2.0   475000.0   370000.0   422500.0   475000.0   527500.0   \n",
      "Zaouiet Sousse    1.0   390000.0   390000.0   390000.0   390000.0   390000.0   \n",
      "Zone Hoteliere    1.0   650000.0   650000.0   650000.0   650000.0   650000.0   \n",
      "Zone urbaine no   2.0   490000.0   390000.0   440000.0   490000.0   540000.0   \n",
      "\n",
      "                                          Modifiée                       \\\n",
      "                       max            std    count                 mean   \n",
      "Région                                                                    \n",
      "Ain Zaghouan      710000.0  205681.445791        8  2024-04-12 00:00:00   \n",
      "Akouda           1550000.0            NaN        1  2024-04-12 00:00:00   \n",
      "Ariana            750000.0  307529.266900        4  2024-04-12 00:00:00   \n",
      "Arkou            1350000.0            NaN        1  2024-04-12 00:00:00   \n",
      "Bab Bhar          250000.0    7071.067812        2  2024-04-12 00:00:00   \n",
      "...                    ...            ...      ...                  ...   \n",
      "Soliman           140000.0            NaN        1  2024-04-12 00:00:00   \n",
      "Zaghouan          580000.0  148492.424049        2  2024-04-12 00:00:00   \n",
      "Zaouiet Sousse    390000.0            NaN        1  2024-04-12 00:00:00   \n",
      "Zone Hoteliere    650000.0            NaN        1  2024-04-12 00:00:00   \n",
      "Zone urbaine no   590000.0  141421.356237        2  2024-04-12 00:00:00   \n",
      "\n",
      "                                                           \\\n",
      "                                 min                  25%   \n",
      "Région                                                      \n",
      "Ain Zaghouan     2024-04-12 00:00:00  2024-04-12 00:00:00   \n",
      "Akouda           2024-04-12 00:00:00  2024-04-12 00:00:00   \n",
      "Ariana           2024-04-12 00:00:00  2024-04-12 00:00:00   \n",
      "Arkou            2024-04-12 00:00:00  2024-04-12 00:00:00   \n",
      "Bab Bhar         2024-04-12 00:00:00  2024-04-12 00:00:00   \n",
      "...                              ...                  ...   \n",
      "Soliman          2024-04-12 00:00:00  2024-04-12 00:00:00   \n",
      "Zaghouan         2024-04-12 00:00:00  2024-04-12 00:00:00   \n",
      "Zaouiet Sousse   2024-04-12 00:00:00  2024-04-12 00:00:00   \n",
      "Zone Hoteliere   2024-04-12 00:00:00  2024-04-12 00:00:00   \n",
      "Zone urbaine no  2024-04-12 00:00:00  2024-04-12 00:00:00   \n",
      "\n",
      "                                                           \\\n",
      "                                 50%                  75%   \n",
      "Région                                                      \n",
      "Ain Zaghouan     2024-04-12 00:00:00  2024-04-12 00:00:00   \n",
      "Akouda           2024-04-12 00:00:00  2024-04-12 00:00:00   \n",
      "Ariana           2024-04-12 00:00:00  2024-04-12 00:00:00   \n",
      "Arkou            2024-04-12 00:00:00  2024-04-12 00:00:00   \n",
      "Bab Bhar         2024-04-12 00:00:00  2024-04-12 00:00:00   \n",
      "...                              ...                  ...   \n",
      "Soliman          2024-04-12 00:00:00  2024-04-12 00:00:00   \n",
      "Zaghouan         2024-04-12 00:00:00  2024-04-12 00:00:00   \n",
      "Zaouiet Sousse   2024-04-12 00:00:00  2024-04-12 00:00:00   \n",
      "Zone Hoteliere   2024-04-12 00:00:00  2024-04-12 00:00:00   \n",
      "Zone urbaine no  2024-04-12 00:00:00  2024-04-12 00:00:00   \n",
      "\n",
      "                                           \n",
      "                                 max  std  \n",
      "Région                                     \n",
      "Ain Zaghouan     2024-04-12 00:00:00  NaN  \n",
      "Akouda           2024-04-12 00:00:00  NaN  \n",
      "Ariana           2024-04-12 00:00:00  NaN  \n",
      "Arkou            2024-04-12 00:00:00  NaN  \n",
      "Bab Bhar         2024-04-12 00:00:00  NaN  \n",
      "...                              ...  ...  \n",
      "Soliman          2024-04-12 00:00:00  NaN  \n",
      "Zaghouan         2024-04-12 00:00:00  NaN  \n",
      "Zaouiet Sousse   2024-04-12 00:00:00  NaN  \n",
      "Zone Hoteliere   2024-04-12 00:00:00  NaN  \n",
      "Zone urbaine no  2024-04-12 00:00:00  NaN  \n",
      "\n",
      "[97 rows x 16 columns]\n",
      "Groupby avec unstack :\n",
      "                 Région         \n",
      "Prix      count  Ain Zaghouan       8.0\n",
      "                 Akouda             1.0\n",
      "                 Ariana             4.0\n",
      "                 Arkou              1.0\n",
      "                 Bab Bhar           2.0\n",
      "                                   ... \n",
      "Modifiée  std    Soliman            NaN\n",
      "                 Zaghouan           NaN\n",
      "                 Zaouiet Sousse     NaN\n",
      "                 Zone Hoteliere     NaN\n",
      "                 Zone urbaine no    NaN\n",
      "Length: 1552, dtype: object\n"
     ]
    }
   ],
   "source": [
    "# Groupby et statistiques descriptives\n",
    "grouped_data = data.groupby('Région').describe()\n",
    "print(\"Statistiques descriptives par région :\")\n",
    "print(grouped_data)\n",
    "\n",
    "# Flatten les données groupées pour une vue plus claire\n",
    "unstacked = grouped_data.unstack()\n",
    "print(\"Groupby avec unstack :\")\n",
    "print(unstacked)\n"
   ]
  },
  {
   "cell_type": "code",
   "execution_count": 13,
   "id": "e3fedb49-ee12-45cd-8349-5361dec69009",
   "metadata": {},
   "outputs": [
    {
     "name": "stdout",
     "output_type": "stream",
     "text": [
      "Doublons détectés :\n",
      "        Région Nature         Type                  Texte annonce      Prix  \\\n",
      "25  El Mourouj  Vente  App. 4 pièc  Appartement mourouj 3 2 étage  170000.0   \n",
      "\n",
      "     Modifiée  \n",
      "25 2024-04-12  \n",
      "Données après suppression des doublons :\n",
      "             Région Nature         Type                  Texte annonce  \\\n",
      "0          Hammamet  Vente      Maisons           Villa a hammamet sud   \n",
      "1     Cite Ennasr 2  Vente      Maisons           Villa avec piscine a   \n",
      "18  Jardins de Cart  Vente  App. 3 pièc       Un appartement s3 vide m   \n",
      "19       El Mourouj  Vente  App. 3 pièc             Appartement nawres   \n",
      "24       El Mourouj  Vente  App. 4 pièc  Appartement mourouj 3 2 étage   \n",
      "\n",
      "          Prix   Modifiée  \n",
      "0   15000000.0 2024-04-12  \n",
      "1   13000000.0 2024-04-12  \n",
      "18    890000.0 2024-04-12  \n",
      "19    107000.0 2024-04-12  \n",
      "24    170000.0 2024-04-12  \n"
     ]
    }
   ],
   "source": [
    "# Vérifier les doublons\n",
    "duplicates = data.duplicated()\n",
    "print(\"Doublons détectés :\")\n",
    "print(data[duplicates])\n",
    "\n",
    "# Supprimer les doublons\n",
    "data = data.drop_duplicates()\n",
    "print(\"Données après suppression des doublons :\")\n",
    "print(data.head())\n"
   ]
  },
  {
   "cell_type": "code",
   "execution_count": 15,
   "id": "36011407-a770-405d-9313-63c974daad5d",
   "metadata": {},
   "outputs": [
    {
     "name": "stdout",
     "output_type": "stream",
     "text": [
      "Nombre de valeurs manquantes par colonne :\n",
      "Région           0\n",
      "Nature           0\n",
      "Type             0\n",
      "Texte annonce    0\n",
      "Prix             0\n",
      "Modifiée         0\n",
      "dtype: int64\n",
      "Données après traitement des valeurs manquantes :\n",
      "Région           0\n",
      "Nature           0\n",
      "Type             0\n",
      "Texte annonce    0\n",
      "Prix             0\n",
      "Modifiée         0\n",
      "dtype: int64\n"
     ]
    }
   ],
   "source": [
    "# Vérifier les valeurs manquantes\n",
    "missing_data = data.isnull().sum()\n",
    "print(\"Nombre de valeurs manquantes par colonne :\")\n",
    "print(missing_data)\n",
    "\n",
    "# Remplir les valeurs manquantes avec une stratégie (par exemple, moyenne ou médiane)\n",
    "data['Prix'] = data['Prix'].fillna(data['Prix'].median())\n",
    "print(\"Données après traitement des valeurs manquantes :\")\n",
    "print(data.isnull().sum())\n"
   ]
  },
  {
   "cell_type": "code",
   "execution_count": 17,
   "id": "bda4d820-b481-42a9-895e-865f42fe1ac0",
   "metadata": {},
   "outputs": [
    {
     "name": "stdout",
     "output_type": "stream",
     "text": [
      "Données triées par prix :\n",
      "           Région Nature         Type                  Texte annonce     Prix  \\\n",
      "998      Khelidia  Vente     Surfaces                 Local khelidia  55000.0   \n",
      "250          Sfax  Vente  App. 3 pièc  Appart 60m2 avenue de algerie  60000.0   \n",
      "519      Hammamet  Vente      Maisons       Av villa s5 avec piscine  65000.0   \n",
      "624    Bab Menara  Vente        Autre       Fond de commerce d'un re  75000.0   \n",
      "419  Sidi Bou Ali  Vente      Maisons               Maison a salmoun  75000.0   \n",
      "\n",
      "      Modifiée  \n",
      "998 2024-04-12  \n",
      "250 2024-04-12  \n",
      "519 2024-04-12  \n",
      "624 2024-04-12  \n",
      "419 2024-04-12  \n",
      "Données mélangées :\n",
      "            Région Nature         Type             Texte annonce      Prix  \\\n",
      "0        La Soukra  Vente  App. 2 pièc      Apprt encours de con  225000.0   \n",
      "1     Chatt Meriem  Vente  App. 3 pièc      S2 dans une residenc  245000.0   \n",
      "2  Cite Ennour Jaa  Vente  App. 4 pièc  Appartement s3 à nour ja  150000.0   \n",
      "3    Cite Ennasr 2  Vente  App. 5 pièc   S4 spacieux et lumineux  700000.0   \n",
      "4    Cite Ennasr 1  Vente  App. 3 pièc  Appartement s2 à cité en  320000.0   \n",
      "\n",
      "    Modifiée  \n",
      "0 2024-04-12  \n",
      "1 2024-04-12  \n",
      "2 2024-04-12  \n",
      "3 2024-04-12  \n",
      "4 2024-04-12  \n"
     ]
    }
   ],
   "source": [
    "# Trier par prix croissant\n",
    "data = data.sort_values(by='Prix', ascending=True)\n",
    "print(\"Données triées par prix :\")\n",
    "print(data.head())\n",
    "\n",
    "# Mélanger les données\n",
    "data = data.sample(frac=1).reset_index(drop=True)\n",
    "print(\"Données mélangées :\")\n",
    "print(data.head())\n"
   ]
  },
  {
   "cell_type": "code",
   "execution_count": 19,
   "id": "68be6585-82ff-4de6-aee4-d3733c5a36ba",
   "metadata": {},
   "outputs": [
    {
     "name": "stdout",
     "output_type": "stream",
     "text": [
      "Valeurs manquantes par colonne :\n",
      " Région           0\n",
      "Nature           0\n",
      "Type             0\n",
      "Texte annonce    0\n",
      "Prix             0\n",
      "Modifiée         0\n",
      "dtype: int64\n"
     ]
    },
    {
     "data": {
      "image/png": "[encoded data removed]",
      "text/plain": [
       "<Figure size 640x480 with 1 Axes>"
      ]
     },
     "metadata": {},
     "output_type": "display_data"
    }
   ],
   "source": [
    "# Vérifier les valeurs manquantes\n",
    "missing_values = data.isnull().sum()\n",
    "print(\"Valeurs manquantes par colonne :\\n\", missing_values)\n",
    "\n",
    "# Visualisation des valeurs manquantes\n",
    "sns.heatmap(data.isnull(), cbar=False, cmap=\"viridis\")\n",
    "plt.title(\"Carte des valeurs manquantes\")\n",
    "plt.show()\n"
   ]
  },
  {
   "cell_type": "code",
   "execution_count": 21,
   "id": "4e52378a-57d6-4c46-b25d-dea4d5c0a7de",
   "metadata": {},
   "outputs": [
    {
     "name": "stdout",
     "output_type": "stream",
     "text": [
      "Données discrétisées :\n",
      "       Prix Prix_Catégorie\n",
      "0  225000.0            Bas\n",
      "1  245000.0      Moyen-Bas\n",
      "2  150000.0            Bas\n",
      "3  700000.0     Moyen-Haut\n",
      "4  320000.0      Moyen-Bas\n"
     ]
    }
   ],
   "source": [
    "# Discrétiser la colonne \"Prix\" en 4 catégories\n",
    "data['Prix_Catégorie'] = pd.qcut(data['Prix'], q=4, labels=['Bas', 'Moyen-Bas', 'Moyen-Haut', 'Haut'])\n",
    "print(\"Données discrétisées :\")\n",
    "print(data[['Prix', 'Prix_Catégorie']].head())\n"
   ]
  },
  {
   "cell_type": "code",
   "execution_count": 23,
   "id": "c7ed7287-c429-43b3-a52b-c39ec264c331",
   "metadata": {},
   "outputs": [
    {
     "name": "stdout",
     "output_type": "stream",
     "text": [
      "Données avec colonnes agrégées :\n",
      "            Région      Prix  Somme_Prix  Moyenne_Prix\n",
      "0        La Soukra  225000.0  16052000.0  6.979130e+05\n",
      "1     Chatt Meriem  245000.0   2340000.0  3.342857e+05\n",
      "2  Cite Ennour Jaa  150000.0    277000.0  1.385000e+05\n",
      "3    Cite Ennasr 2  700000.0  18235000.0  2.605000e+06\n",
      "4    Cite Ennasr 1  320000.0   2385000.0  3.975000e+05\n"
     ]
    }
   ],
   "source": [
    "# Agrégation par région avec somme et moyenne\n",
    "data['Somme_Prix'] = data.groupby('Région')['Prix'].transform('sum')\n",
    "data['Moyenne_Prix'] = data.groupby('Région')['Prix'].transform('mean')\n",
    "print(\"Données avec colonnes agrégées :\")\n",
    "print(data[['Région', 'Prix', 'Somme_Prix', 'Moyenne_Prix']].head())\n"
   ]
  },
  {
   "cell_type": "code",
   "execution_count": 29,
   "id": "3c4c9e7b-a590-420e-ad8c-662d2f84e08c",
   "metadata": {},
   "outputs": [
    {
     "name": "stdout",
     "output_type": "stream",
     "text": [
      "          Type Type_general  Nombre_de_chambres  Nombre_de_salle_de_bain\n",
      "0  App. 2 pièc  Appartement                 2.0                      NaN\n",
      "1  App. 3 pièc  Appartement                 3.0                      NaN\n",
      "2  App. 4 pièc  Appartement                 4.0                      NaN\n",
      "3  App. 5 pièc  Appartement                 5.0                      NaN\n",
      "4  App. 3 pièc  Appartement                 3.0                      NaN\n"
     ]
    }
   ],
   "source": [
    "import numpy as np\n",
    "\n",
    "# Fonction pour extraire le type général\n",
    "def extraire_type(type_str):\n",
    "    if \"App\" in type_str:\n",
    "        return \"Appartement\"\n",
    "    elif \"Maison\" in type_str:\n",
    "        return \"Maison\"\n",
    "    elif \"Surface\" in type_str:\n",
    "        return \"Surface\"\n",
    "    else:\n",
    "        return \"Autre\"\n",
    "\n",
    "# Fonction pour extraire le nombre de chambres/pièces\n",
    "def extraire_nombre_chambres(type_str):\n",
    "    # Trouver un chiffre suivi de \"piÃ¨c\" ou \"pièce\"\n",
    "    match = re.search(r'(\\d+)\\s*pi', type_str, re.IGNORECASE)\n",
    "    return int(match.group(1)) if match else np.nan\n",
    "\n",
    "# Appliquer les transformations\n",
    "data['Type_general'] = data['Type'].apply(extraire_type)\n",
    "data['Nombre_de_chambres'] = data['Type'].apply(extraire_nombre_chambres)\n",
    "\n",
    "# Ajouter une nouvelle colonne pour les salles de bain (initialisée à NaN)\n",
    "data['Nombre_de_salle_de_bain'] = np.nan  # Vous pourrez remplir cette colonne plus tard.\n",
    "\n",
    "# Vérifier les résultats\n",
    "print(data[['Type', 'Type_general', 'Nombre_de_chambres', 'Nombre_de_salle_de_bain']].head())\n"
   ]
  },
  {
   "cell_type": "code",
   "execution_count": 31,
   "id": "03f2a452-9f9e-4c3e-8d58-9e513d8b8723",
   "metadata": {},
   "outputs": [
    {
     "name": "stdout",
     "output_type": "stream",
     "text": [
      "            Région Nature         Type             Texte annonce      Prix  \\\n",
      "0        La Soukra  Vente  App. 2 pièc      Apprt encours de con  225000.0   \n",
      "1     Chatt Meriem  Vente  App. 3 pièc      S2 dans une residenc  245000.0   \n",
      "2  Cite Ennour Jaa  Vente  App. 4 pièc  Appartement s3 à nour ja  150000.0   \n",
      "3    Cite Ennasr 2  Vente  App. 5 pièc   S4 spacieux et lumineux  700000.0   \n",
      "4    Cite Ennasr 1  Vente  App. 3 pièc  Appartement s2 à cité en  320000.0   \n",
      "\n",
      "    Modifiée Prix_Catégorie  Somme_Prix  Moyenne_Prix Type_general  \\\n",
      "0 2024-04-12            Bas  16052000.0  6.979130e+05  Appartement   \n",
      "1 2024-04-12      Moyen-Bas   2340000.0  3.342857e+05  Appartement   \n",
      "2 2024-04-12            Bas    277000.0  1.385000e+05  Appartement   \n",
      "3 2024-04-12     Moyen-Haut  18235000.0  2.605000e+06  Appartement   \n",
      "4 2024-04-12      Moyen-Bas   2385000.0  3.975000e+05  Appartement   \n",
      "\n",
      "   Nombre_de_chambres  Nombre_de_salle_de_bain  \n",
      "0                 2.0                      NaN  \n",
      "1                 3.0                      NaN  \n",
      "2                 4.0                      NaN  \n",
      "3                 5.0                      NaN  \n",
      "4                 3.0                      NaN  \n"
     ]
    }
   ],
   "source": [
    "print(data.head())"
   ]
  },
  {
   "cell_type": "code",
   "execution_count": 33,
   "id": "00e9878c-2fae-494e-86e2-3f20a60d4445",
   "metadata": {},
   "outputs": [],
   "source": [
    "data.to_csv('data_with_added_features.csv', index=False, encoding='utf-8')  # Sans l'index\n"
   ]
  },
  {
   "cell_type": "code",
   "execution_count": 36,
   "id": "f517ad53-1e73-4e38-87ac-58505476cdcc",
   "metadata": {},
   "outputs": [
    {
     "name": "stdout",
     "output_type": "stream",
     "text": [
      "  Type_general      Prix  surface\n",
      "0  Appartement  225000.0      150\n",
      "1  Appartement  245000.0      150\n",
      "2  Appartement  150000.0      150\n",
      "3  Appartement  700000.0      300\n",
      "4  Appartement  320000.0      150\n"
     ]
    }
   ],
   "source": [
    "import numpy as np\n",
    "\n",
    "# Ajouter une colonne \"surface\" initialisée à NaN\n",
    "data['surface'] = np.nan\n",
    "\n",
    "# Définir une fonction pour estimer la surface\n",
    "def estimer_surface(type_general, prix):\n",
    "    if pd.isna(prix) or pd.isna(type_general):\n",
    "        return np.nan  # Pas de surface si données manquantes\n",
    "    \n",
    "    # Logique pour les appartements\n",
    "    if type_general == \"appartement\":\n",
    "        if prix < 100_000:\n",
    "            return 70  # Surface estimée pour bas prix\n",
    "        elif prix <= 300_000:\n",
    "            return 120  # Surface moyenne\n",
    "        elif prix <= 1_000_000:\n",
    "            return 200  # Grand appartement\n",
    "        else:\n",
    "            return 300  # Très grand appartement\n",
    "\n",
    "    # Logique pour les maisons\n",
    "    elif type_general == \"maison\":\n",
    "        if prix < 200_000:\n",
    "            return 100  # Petite maison\n",
    "        elif prix <= 500_000:\n",
    "            return 200  # Maison moyenne\n",
    "        elif prix <= 1_500_000:\n",
    "            return 400  # Grande maison\n",
    "        else:\n",
    "            return 600  # Très grande maison\n",
    "\n",
    "    # Logique pour les autres types\n",
    "    else:\n",
    "        if prix < 100_000:\n",
    "            return 50  # Petites surfaces\n",
    "        elif prix <= 500_000:\n",
    "            return 150  # Surfaces moyennes\n",
    "        else:\n",
    "            return 300  # Très grandes surfaces\n",
    "\n",
    "# Appliquer la fonction pour calculer la surface\n",
    "data['surface'] = data.apply(lambda row: estimer_surface(row['Type_general'], row['Prix']), axis=1)\n",
    "\n",
    "# Vérifier les premières lignes pour validation\n",
    "print(data[['Type_general', 'Prix', 'surface']].head())\n"
   ]
  },
  {
   "cell_type": "code",
   "execution_count": 38,
   "id": "0016bd6b-9723-402c-af09-9bd524eebeab",
   "metadata": {},
   "outputs": [],
   "source": [
    "data.to_csv('data_with_surface.csv', index=False, encoding='utf-8')  # Sans l'index\n"
   ]
  },
  {
   "cell_type": "code",
   "execution_count": 43,
   "id": "b00ec0a4-daa4-47dd-a881-84431cc4caae",
   "metadata": {},
   "outputs": [
    {
     "name": "stdout",
     "output_type": "stream",
     "text": [
      "   surface      Prix  Nombre_de_chambres\n",
      "0      150  225000.0                 2.0\n",
      "1      150  245000.0                 3.0\n",
      "2      150  150000.0                 4.0\n",
      "3      300  700000.0                 5.0\n",
      "4      150  320000.0                 3.0\n"
     ]
    }
   ],
   "source": [
    "# Fonction pour estimer le nombre de chambres avec prix/m²\n",
    "def estimer_chambres(surface, prix):\n",
    "    if pd.isna(surface) or pd.isna(prix):\n",
    "        return np.nan  # Retourner NaN si surface ou prix manquants\n",
    "    \n",
    "    # Calcul du prix par mètre carré\n",
    "    prix_m2 = prix / surface\n",
    "    \n",
    "    # Logique révisée en fonction de la surface et du prix/m²\n",
    "    if surface < 60:\n",
    "        return 1  # Studio ou petite chambre\n",
    "    elif surface < 90:\n",
    "        return 2  # Appartement T2\n",
    "    elif surface < 120:\n",
    "        if prix_m2 > 2000:\n",
    "            return 2  # Haut standing\n",
    "        else:\n",
    "            return 3  # Standard\n",
    "    elif surface < 180:\n",
    "        if prix_m2 > 1500:\n",
    "            return 3  # Appartement spacieux haut standing\n",
    "        else:\n",
    "            return 4  # Maison standard\n",
    "    elif surface <= 300:\n",
    "        if prix_m2 > 2000:\n",
    "            return 4  # Maison haut standing\n",
    "        else:\n",
    "            return 5  # Grande maison ou villa\n",
    "    else:\n",
    "        return np.nan  # Surface en dehors de la plage définie\n",
    "\n",
    "# Remplir les valeurs manquantes de \"Nombre_de_chambres\"\n",
    "data['Nombre_de_chambres'] = data.apply(\n",
    "    lambda row: row['Nombre_de_chambres'] if not pd.isna(row['Nombre_de_chambres']) else estimer_chambres(row['surface'], row['Prix']),\n",
    "    axis=1\n",
    ")\n",
    "\n",
    "# Vérifier les premières lignes pour validation\n",
    "print(data[['surface', 'Prix', 'Nombre_de_chambres']].head())\n"
   ]
  },
  {
   "cell_type": "code",
   "execution_count": 45,
   "id": "ee942eec-6308-4536-9ae2-1cc544e467f2",
   "metadata": {},
   "outputs": [],
   "source": [
    "data.to_csv('data_with_surface_and_chambres.csv', index=False, encoding='utf-8')  # Sans l'index\n"
   ]
  },
  {
   "cell_type": "code",
   "execution_count": 53,
   "id": "6d4ddd29-d9f1-47a0-a67b-8019c961e334",
   "metadata": {},
   "outputs": [
    {
     "name": "stdout",
     "output_type": "stream",
     "text": [
      "  Type_general  surface\n",
      "0  Appartement      150\n",
      "1  Appartement      150\n",
      "2  Appartement      150\n",
      "3  Appartement      300\n",
      "4  Appartement      150\n"
     ]
    }
   ],
   "source": [
    "# Modifier \"type_general\" si les conditions sont remplies\n",
    "data['Type_general'] = data.apply(\n",
    "    lambda row: 'Villa' if row['Type_general'] == 'Maison' and row['surface'] == 300 else row['Type_general'],\n",
    "    axis=1\n",
    ")\n",
    "\n",
    "# Vérifier les premières lignes pour validation\n",
    "print(data[['Type_general', 'surface']].head())\n"
   ]
  },
  {
   "cell_type": "code",
   "execution_count": 58,
   "id": "519d9b25-94cc-4cdb-a6e9-8ffca6cf21ea",
   "metadata": {},
   "outputs": [],
   "source": [
    "data.to_csv('data_filtered_before_merging.csv', index=False, encoding='utf-8')  # Sans l'index\n"
   ]
  },
  {
   "cell_type": "code",
   "execution_count": null,
   "id": "b71a9356-0dd9-4429-b1a5-619455bdbbab",
   "metadata": {},
   "outputs": [],
   "source": []
  }
 ],
 "metadata": {
  "kernelspec": {
   "display_name": "Python 3 (ipykernel)",
   "language": "python",
   "name": "python3"
  },
  "language_info": {
   "codemirror_mode": {
    "name": "ipython",
    "version": 3
   },
   "file_extension": ".py",
   "mimetype": "text/x-python",
   "name": "python",
   "nbconvert_exporter": "python",
   "pygments_lexer": "ipython3",
   "version": "3.12.4"
  }
 },
 "nbformat": 4,
 "nbformat_minor": 5
}
