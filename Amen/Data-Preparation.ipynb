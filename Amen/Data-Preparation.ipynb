{
 "cells": [
  {
   "cell_type": "code",
   "execution_count": 32,
   "id": "80d32c47-ed14-4a80-a5c4-4b01ca80f034",
   "metadata": {},
   "outputs": [
    {
     "name": "stdout",
     "output_type": "stream",
     "text": [
      "            Région        Prix   Modifiée\n",
      "0         Hammamet  15000000.0 2024-04-12\n",
      "1    Cite Ennasr 2  13000000.0 2024-04-12\n",
      "2    Le Kram Ouest       370.0 2024-04-12\n",
      "3  Jardins d'el Me      1800.0 2024-04-12\n",
      "4    Cite Ennasr 2       860.0 2024-04-12\n",
      "Nombre de lignes avec 'Prix' manquant : 3\n"
     ]
    }
   ],
   "source": [
    "import pandas as pd\n",
    "import matplotlib.pyplot as plt\n",
    "import seaborn as sns\n",
    "\n",
    "# Load the CSV file into a DataFrame\n",
    "data = pd.read_csv(\"real_estate_data_version_2.csv\")\n",
    "# Vérifier si 'Prix' est une chaîne, sinon convertir\n",
    "if data['Prix'].dtype != 'object':\n",
    "    data['Prix'] = data['Prix'].astype(str)\n",
    "\n",
    "# Nettoyage de la colonne \"Prix\"\n",
    "data['Prix'] = data['Prix'].str.replace(' ', '', regex=False)  # Supprimer les espaces\n",
    "data['Prix'] = data['Prix'].str.replace('[^0-9.]', '', regex=True)  # Garder uniquement les chiffres et '.'\n",
    "\n",
    "# Convertir en numérique (remplacer les erreurs par NaN)\n",
    "data['Prix'] = pd.to_numeric(data['Prix'], errors='coerce')\n",
    "\n",
    "# Convertir \"Modifiée\" en datetime\n",
    "data['Modifiée'] = pd.to_datetime(data['Modifiée'], errors='coerce')\n",
    "\n",
    "# Vérifier les résultats\n",
    "print(data[['Région', 'Prix', 'Modifiée']].head())\n",
    "print(f\"Nombre de lignes avec 'Prix' manquant : {data['Prix'].isnull().sum()}\")\n",
    "\n",
    "\n",
    "\n",
    "\n"
   ]
  },
  {
   "cell_type": "code",
   "execution_count": 33,
   "id": "ffc0c240-360d-48f9-a5ae-f551e87d5782",
   "metadata": {},
   "outputs": [
    {
     "name": "stdout",
     "output_type": "stream",
     "text": [
      "Nombre total de lignes : 1250\n",
      "Nombre de lignes avec un prix manquant : 3\n"
     ]
    }
   ],
   "source": [
    "missing_prices = data['Prix'].isnull().sum()\n",
    "total_rows = len(data)\n",
    "print(f\"Nombre total de lignes : {total_rows}\")\n",
    "print(f\"Nombre de lignes avec un prix manquant : {missing_prices}\")\n"
   ]
  },
  {
   "cell_type": "code",
   "execution_count": 34,
   "id": "2b4ff186-9e9e-432f-b126-a97e6813a331",
   "metadata": {},
   "outputs": [
    {
     "name": "stdout",
     "output_type": "stream",
     "text": [
      "             Région Nature         Type                  Texte annonce  \\\n",
      "0          Hammamet  Vente      Maisons           Villa a hammamet sud   \n",
      "1     Cite Ennasr 2  Vente      Maisons           Villa avec piscine a   \n",
      "18  Jardins de Cart  Vente  App. 3 pièc       Un appartement s3 vide m   \n",
      "19       El Mourouj  Vente  App. 3 pièc             Appartement nawres   \n",
      "24       El Mourouj  Vente  App. 4 pièc  Appartement mourouj 3 2 étage   \n",
      "\n",
      "          Prix   Modifiée  \n",
      "0   15000000.0 2024-04-12  \n",
      "1   13000000.0 2024-04-12  \n",
      "18    890000.0 2024-04-12  \n",
      "19    107000.0 2024-04-12  \n",
      "24    170000.0 2024-04-12  \n"
     ]
    }
   ],
   "source": [
    "# Garder uniquement les lignes où \"Nature\" est \"Vente\"\n",
    "data = data[data[\"Nature\"] == \"Vente\"]\n",
    "\n",
    "# Vérifier les premières lignes du nouveau DataFrame\n",
    "print(data.head())\n"
   ]
  },
  {
   "cell_type": "code",
   "execution_count": 36,
   "id": "ce839c49-eecb-4a64-a08e-8376fb1319a2",
   "metadata": {},
   "outputs": [
    {
     "name": "stdout",
     "output_type": "stream",
     "text": [
      "Données filtrées sauvegardées dans 'filtered_data.csv'.\n"
     ]
    }
   ],
   "source": [
    "data.to_csv(\"filtered_data.csv\", index=False, encoding=\"utf-8\")\n",
    "print(\"Données filtrées sauvegardées dans 'filtered_data.csv'.\")\n"
   ]
  },
  {
   "cell_type": "code",
   "execution_count": 37,
   "id": "f0fdc029-b198-4cc6-8b07-62e4f5e76860",
   "metadata": {},
   "outputs": [
    {
     "name": "stdout",
     "output_type": "stream",
     "text": [
      "Statistiques descriptives par région :\n",
      "                 Prix                                                         \\\n",
      "                count       mean        min        25%        50%        75%   \n",
      "Région                                                                         \n",
      "Ain Zaghouan      8.0   504500.0   160000.0   424500.0   560000.0   640000.0   \n",
      "Akouda            1.0  1550000.0  1550000.0  1550000.0  1550000.0  1550000.0   \n",
      "Ariana            4.0   400750.0    90000.0   174000.0   381500.0   608250.0   \n",
      "Arkou             1.0  1350000.0  1350000.0  1350000.0  1350000.0  1350000.0   \n",
      "Bab Bhar          2.0   245000.0   240000.0   242500.0   245000.0   247500.0   \n",
      "...               ...        ...        ...        ...        ...        ...   \n",
      "Soliman           1.0   140000.0   140000.0   140000.0   140000.0   140000.0   \n",
      "Zaghouan          2.0   475000.0   370000.0   422500.0   475000.0   527500.0   \n",
      "Zaouiet Sousse    1.0   390000.0   390000.0   390000.0   390000.0   390000.0   \n",
      "Zone Hoteliere    1.0   650000.0   650000.0   650000.0   650000.0   650000.0   \n",
      "Zone urbaine no   2.0   490000.0   390000.0   440000.0   490000.0   540000.0   \n",
      "\n",
      "                                          Modifiée                       \\\n",
      "                       max            std    count                 mean   \n",
      "Région                                                                    \n",
      "Ain Zaghouan      710000.0  205681.445791        8  2024-04-12 00:00:00   \n",
      "Akouda           1550000.0            NaN        1  2024-04-12 00:00:00   \n",
      "Ariana            750000.0  307529.266900        4  2024-04-12 00:00:00   \n",
      "Arkou            1350000.0            NaN        1  2024-04-12 00:00:00   \n",
      "Bab Bhar          250000.0    7071.067812        2  2024-04-12 00:00:00   \n",
      "...                    ...            ...      ...                  ...   \n",
      "Soliman           140000.0            NaN        1  2024-04-12 00:00:00   \n",
      "Zaghouan          580000.0  148492.424049        2  2024-04-12 00:00:00   \n",
      "Zaouiet Sousse    390000.0            NaN        1  2024-04-12 00:00:00   \n",
      "Zone Hoteliere    650000.0            NaN        1  2024-04-12 00:00:00   \n",
      "Zone urbaine no   590000.0  141421.356237        2  2024-04-12 00:00:00   \n",
      "\n",
      "                                                           \\\n",
      "                                 min                  25%   \n",
      "Région                                                      \n",
      "Ain Zaghouan     2024-04-12 00:00:00  2024-04-12 00:00:00   \n",
      "Akouda           2024-04-12 00:00:00  2024-04-12 00:00:00   \n",
      "Ariana           2024-04-12 00:00:00  2024-04-12 00:00:00   \n",
      "Arkou            2024-04-12 00:00:00  2024-04-12 00:00:00   \n",
      "Bab Bhar         2024-04-12 00:00:00  2024-04-12 00:00:00   \n",
      "...                              ...                  ...   \n",
      "Soliman          2024-04-12 00:00:00  2024-04-12 00:00:00   \n",
      "Zaghouan         2024-04-12 00:00:00  2024-04-12 00:00:00   \n",
      "Zaouiet Sousse   2024-04-12 00:00:00  2024-04-12 00:00:00   \n",
      "Zone Hoteliere   2024-04-12 00:00:00  2024-04-12 00:00:00   \n",
      "Zone urbaine no  2024-04-12 00:00:00  2024-04-12 00:00:00   \n",
      "\n",
      "                                                           \\\n",
      "                                 50%                  75%   \n",
      "Région                                                      \n",
      "Ain Zaghouan     2024-04-12 00:00:00  2024-04-12 00:00:00   \n",
      "Akouda           2024-04-12 00:00:00  2024-04-12 00:00:00   \n",
      "Ariana           2024-04-12 00:00:00  2024-04-12 00:00:00   \n",
      "Arkou            2024-04-12 00:00:00  2024-04-12 00:00:00   \n",
      "Bab Bhar         2024-04-12 00:00:00  2024-04-12 00:00:00   \n",
      "...                              ...                  ...   \n",
      "Soliman          2024-04-12 00:00:00  2024-04-12 00:00:00   \n",
      "Zaghouan         2024-04-12 00:00:00  2024-04-12 00:00:00   \n",
      "Zaouiet Sousse   2024-04-12 00:00:00  2024-04-12 00:00:00   \n",
      "Zone Hoteliere   2024-04-12 00:00:00  2024-04-12 00:00:00   \n",
      "Zone urbaine no  2024-04-12 00:00:00  2024-04-12 00:00:00   \n",
      "\n",
      "                                           \n",
      "                                 max  std  \n",
      "Région                                     \n",
      "Ain Zaghouan     2024-04-12 00:00:00  NaN  \n",
      "Akouda           2024-04-12 00:00:00  NaN  \n",
      "Ariana           2024-04-12 00:00:00  NaN  \n",
      "Arkou            2024-04-12 00:00:00  NaN  \n",
      "Bab Bhar         2024-04-12 00:00:00  NaN  \n",
      "...                              ...  ...  \n",
      "Soliman          2024-04-12 00:00:00  NaN  \n",
      "Zaghouan         2024-04-12 00:00:00  NaN  \n",
      "Zaouiet Sousse   2024-04-12 00:00:00  NaN  \n",
      "Zone Hoteliere   2024-04-12 00:00:00  NaN  \n",
      "Zone urbaine no  2024-04-12 00:00:00  NaN  \n",
      "\n",
      "[97 rows x 16 columns]\n",
      "Groupby avec unstack :\n",
      "                 Région         \n",
      "Prix      count  Ain Zaghouan       8.0\n",
      "                 Akouda             1.0\n",
      "                 Ariana             4.0\n",
      "                 Arkou              1.0\n",
      "                 Bab Bhar           2.0\n",
      "                                   ... \n",
      "Modifiée  std    Soliman            NaN\n",
      "                 Zaghouan           NaN\n",
      "                 Zaouiet Sousse     NaN\n",
      "                 Zone Hoteliere     NaN\n",
      "                 Zone urbaine no    NaN\n",
      "Length: 1552, dtype: object\n"
     ]
    }
   ],
   "source": [
    "# Groupby et statistiques descriptives\n",
    "grouped_data = data.groupby('Région').describe()\n",
    "print(\"Statistiques descriptives par région :\")\n",
    "print(grouped_data)\n",
    "\n",
    "# Flatten les données groupées pour une vue plus claire\n",
    "unstacked = grouped_data.unstack()\n",
    "print(\"Groupby avec unstack :\")\n",
    "print(unstacked)\n"
   ]
  },
  {
   "cell_type": "code",
   "execution_count": 38,
   "id": "e3fedb49-ee12-45cd-8349-5361dec69009",
   "metadata": {},
   "outputs": [
    {
     "name": "stdout",
     "output_type": "stream",
     "text": [
      "Doublons détectés :\n",
      "        Région Nature         Type                  Texte annonce      Prix  \\\n",
      "25  El Mourouj  Vente  App. 4 pièc  Appartement mourouj 3 2 étage  170000.0   \n",
      "\n",
      "     Modifiée  \n",
      "25 2024-04-12  \n",
      "Données après suppression des doublons :\n",
      "             Région Nature         Type                  Texte annonce  \\\n",
      "0          Hammamet  Vente      Maisons           Villa a hammamet sud   \n",
      "1     Cite Ennasr 2  Vente      Maisons           Villa avec piscine a   \n",
      "18  Jardins de Cart  Vente  App. 3 pièc       Un appartement s3 vide m   \n",
      "19       El Mourouj  Vente  App. 3 pièc             Appartement nawres   \n",
      "24       El Mourouj  Vente  App. 4 pièc  Appartement mourouj 3 2 étage   \n",
      "\n",
      "          Prix   Modifiée  \n",
      "0   15000000.0 2024-04-12  \n",
      "1   13000000.0 2024-04-12  \n",
      "18    890000.0 2024-04-12  \n",
      "19    107000.0 2024-04-12  \n",
      "24    170000.0 2024-04-12  \n"
     ]
    }
   ],
   "source": [
    "# Vérifier les doublons\n",
    "duplicates = data.duplicated()\n",
    "print(\"Doublons détectés :\")\n",
    "print(data[duplicates])\n",
    "\n",
    "# Supprimer les doublons\n",
    "data = data.drop_duplicates()\n",
    "print(\"Données après suppression des doublons :\")\n",
    "print(data.head())\n"
   ]
  },
  {
   "cell_type": "code",
   "execution_count": 39,
   "id": "36011407-a770-405d-9313-63c974daad5d",
   "metadata": {},
   "outputs": [
    {
     "name": "stdout",
     "output_type": "stream",
     "text": [
      "Nombre de valeurs manquantes par colonne :\n",
      "Région           0\n",
      "Nature           0\n",
      "Type             0\n",
      "Texte annonce    0\n",
      "Prix             0\n",
      "Modifiée         0\n",
      "dtype: int64\n",
      "Données après traitement des valeurs manquantes :\n",
      "Région           0\n",
      "Nature           0\n",
      "Type             0\n",
      "Texte annonce    0\n",
      "Prix             0\n",
      "Modifiée         0\n",
      "dtype: int64\n"
     ]
    }
   ],
   "source": [
    "# Vérifier les valeurs manquantes\n",
    "missing_data = data.isnull().sum()\n",
    "print(\"Nombre de valeurs manquantes par colonne :\")\n",
    "print(missing_data)\n",
    "\n",
    "# Remplir les valeurs manquantes avec une stratégie (par exemple, moyenne ou médiane)\n",
    "data['Prix'] = data['Prix'].fillna(data['Prix'].median())\n",
    "print(\"Données après traitement des valeurs manquantes :\")\n",
    "print(data.isnull().sum())\n"
   ]
  },
  {
   "cell_type": "code",
   "execution_count": 40,
   "id": "bda4d820-b481-42a9-895e-865f42fe1ac0",
   "metadata": {},
   "outputs": [
    {
     "name": "stdout",
     "output_type": "stream",
     "text": [
      "Données triées par prix :\n",
      "           Région Nature         Type                  Texte annonce     Prix  \\\n",
      "998      Khelidia  Vente     Surfaces                 Local khelidia  55000.0   \n",
      "250          Sfax  Vente  App. 3 pièc  Appart 60m2 avenue de algerie  60000.0   \n",
      "519      Hammamet  Vente      Maisons       Av villa s5 avec piscine  65000.0   \n",
      "624    Bab Menara  Vente        Autre       Fond de commerce d'un re  75000.0   \n",
      "419  Sidi Bou Ali  Vente      Maisons               Maison a salmoun  75000.0   \n",
      "\n",
      "      Modifiée  \n",
      "998 2024-04-12  \n",
      "250 2024-04-12  \n",
      "519 2024-04-12  \n",
      "624 2024-04-12  \n",
      "419 2024-04-12  \n",
      "Données mélangées :\n",
      "            Région Nature         Type                  Texte annonce  \\\n",
      "0       El Mourouj  Vente  App. 3 pièc             Appartement nawres   \n",
      "1    Cite Ennasr 2  Vente  App. 4 pièc        S3 avec jardin à ennasr   \n",
      "2     Marsa Safsaf  Vente  App. 3 pièc  Réf 89v bel appartement s 2 r   \n",
      "3       El Mourouj  Vente      Maisons                Villa mourouj 6   \n",
      "4  Cite De La Plag  Vente      Maisons            Villa r plus 2 cité   \n",
      "\n",
      "        Prix   Modifiée  \n",
      "0   107000.0 2024-04-12  \n",
      "1   475000.0 2024-04-12  \n",
      "2  1500000.0 2024-04-12  \n",
      "3   750000.0 2024-04-12  \n",
      "4  1170000.0 2024-04-12  \n"
     ]
    }
   ],
   "source": [
    "# Trier par prix croissant\n",
    "data = data.sort_values(by='Prix', ascending=True)\n",
    "print(\"Données triées par prix :\")\n",
    "print(data.head())\n",
    "\n",
    "# Mélanger les données\n",
    "data = data.sample(frac=1).reset_index(drop=True)\n",
    "print(\"Données mélangées :\")\n",
    "print(data.head())\n"
   ]
  },
  {
   "cell_type": "code",
   "execution_count": 41,
   "id": "68be6585-82ff-4de6-aee4-d3733c5a36ba",
   "metadata": {},
   "outputs": [
    {
     "name": "stdout",
     "output_type": "stream",
     "text": [
      "Valeurs manquantes par colonne :\n",
      " Région           0\n",
      "Nature           0\n",
      "Type             0\n",
      "Texte annonce    0\n",
      "Prix             0\n",
      "Modifiée         0\n",
      "dtype: int64\n"
     ]
    },
    {
     "data": {
      "image/png": "[encoded data removed]",
      "text/plain": [
       "<Figure size 640x480 with 1 Axes>"
      ]
     },
     "metadata": {},
     "output_type": "display_data"
    }
   ],
   "source": [
    "# Vérifier les valeurs manquantes\n",
    "missing_values = data.isnull().sum()\n",
    "print(\"Valeurs manquantes par colonne :\\n\", missing_values)\n",
    "\n",
    "# Visualisation des valeurs manquantes\n",
    "sns.heatmap(data.isnull(), cbar=False, cmap=\"viridis\")\n",
    "plt.title(\"Carte des valeurs manquantes\")\n",
    "plt.show()\n"
   ]
  },
  {
   "cell_type": "code",
   "execution_count": 42,
   "id": "4e52378a-57d6-4c46-b25d-dea4d5c0a7de",
   "metadata": {},
   "outputs": [
    {
     "name": "stdout",
     "output_type": "stream",
     "text": [
      "Données discrétisées :\n",
      "        Prix Prix_Catégorie\n",
      "0   107000.0            Bas\n",
      "1   475000.0     Moyen-Haut\n",
      "2  1500000.0           Haut\n",
      "3   750000.0     Moyen-Haut\n",
      "4  1170000.0           Haut\n"
     ]
    }
   ],
   "source": [
    "# Discrétiser la colonne \"Prix\" en 4 catégories\n",
    "data['Prix_Catégorie'] = pd.qcut(data['Prix'], q=4, labels=['Bas', 'Moyen-Bas', 'Moyen-Haut', 'Haut'])\n",
    "print(\"Données discrétisées :\")\n",
    "print(data[['Prix', 'Prix_Catégorie']].head())\n"
   ]
  },
  {
   "cell_type": "code",
   "execution_count": 43,
   "id": "c7ed7287-c429-43b3-a52b-c39ec264c331",
   "metadata": {},
   "outputs": [
    {
     "name": "stdout",
     "output_type": "stream",
     "text": [
      "Données avec colonnes agrégées :\n",
      "            Région       Prix  Somme_Prix  Moyenne_Prix\n",
      "0       El Mourouj   107000.0   4922000.0  2.734444e+05\n",
      "1    Cite Ennasr 2   475000.0  18235000.0  2.605000e+06\n",
      "2     Marsa Safsaf  1500000.0   6700000.0  2.233333e+06\n",
      "3       El Mourouj   750000.0   4922000.0  2.734444e+05\n",
      "4  Cite De La Plag  1170000.0   1170000.0  1.170000e+06\n"
     ]
    }
   ],
   "source": [
    "# Agrégation par région avec somme et moyenne\n",
    "data['Somme_Prix'] = data.groupby('Région')['Prix'].transform('sum')\n",
    "data['Moyenne_Prix'] = data.groupby('Région')['Prix'].transform('mean')\n",
    "print(\"Données avec colonnes agrégées :\")\n",
    "print(data[['Région', 'Prix', 'Somme_Prix', 'Moyenne_Prix']].head())\n"
   ]
  },
  {
   "cell_type": "code",
   "execution_count": null,
   "id": "3c4c9e7b-a590-420e-ad8c-662d2f84e08c",
   "metadata": {},
   "outputs": [],
   "source": []
  }
 ],
 "metadata": {
  "kernelspec": {
   "display_name": "Python 3 (ipykernel)",
   "language": "python",
   "name": "python3"
  },
  "language_info": {
   "codemirror_mode": {
    "name": "ipython",
    "version": 3
   },
   "file_extension": ".py",
   "mimetype": "text/x-python",
   "name": "python",
   "nbconvert_exporter": "python",
   "pygments_lexer": "ipython3",
   "version": "3.8.19"
  }
 },
 "nbformat": 4,
 "nbformat_minor": 5
}
