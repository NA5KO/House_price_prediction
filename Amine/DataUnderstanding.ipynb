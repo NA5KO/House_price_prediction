{
 "cells": [
  {
   "cell_type": "code",
   "execution_count": 29,
   "metadata": {},
   "outputs": [
    {
     "name": "stdout",
     "output_type": "stream",
     "text": [
      "Missing values per column:\n",
      "Région                     0\n",
      "Localisation            2070\n",
      "Type de bien            1319\n",
      "Nature                   105\n",
      "Superficie               335\n",
      "Nb_Salles De bain        315\n",
      "Nb_Chambres              221\n",
      "Prix                      15\n",
      "Date_De_Modification    2240\n",
      "Texte Annonce              0\n",
      "dtype: int64\n",
      "Missing values after: 31\n"
     ]
    }
   ],
   "source": [
    "import pandas as pd\n",
    "import numpy as np\n",
    "\n",
    "# Load Data\n",
    "file_path = 'tayara_v3.csv' \n",
    "df = pd.read_csv(file_path)\n",
    "\n",
    "# Check for missing values\n",
    "print(\"Missing values per column:\")\n",
    "print(df.isnull().sum())\n",
    "\n",
    "df.loc[(df['Nature'].isnull()) & (df['Prix'] > 100000), 'Nature'] = 'À Vendre'\n",
    "\n",
    "# Step 4: Check missing values after the update (optional, for verification)\n",
    "print(\"Missing values after:\", df['Nature'].isnull().sum())"
   ]
  },
  {
   "cell_type": "code",
   "execution_count": 30,
   "metadata": {},
   "outputs": [
    {
     "name": "stdout",
     "output_type": "stream",
     "text": [
      "Missing values before: 1319\n",
      "Missing values after: 295\n"
     ]
    }
   ],
   "source": [
    "# Step 2: Check missing values for 'Type de bien' (optional, for verification)\n",
    "print(\"Missing values before:\", df['Type de bien'].isnull().sum())\n",
    "\n",
    "# Convert 'Nb_Chambres' to numeric, forcing errors to NaN\n",
    "df['Nb_Chambres'] = pd.to_numeric(df['Nb_Chambres'], errors='coerce')\n",
    "\n",
    "# Step 3: Fill missing values in 'Type de bien' based on the given rules\n",
    "df.loc[(df['Type de bien'].isnull()) & \n",
    "       (df['Nb_Chambres'].between(1, 3)) & \n",
    "       (df['Nb_Salles De bain'].between(1, 2)), 'Type de bien'] = 'Appartement'\n",
    "\n",
    "df.loc[(df['Type de bien'].isnull()) & \n",
    "       (df['Nb_Chambres'].between(3, 4)) & \n",
    "       (df['Nb_Salles De bain'].between(1, 2)), 'Type de bien'] = 'Maison'\n",
    "\n",
    "df.loc[(df['Type de bien'].isnull()) & \n",
    "    (df['Nb_Chambres'] > 4) & \n",
    "    (df['Nb_Salles De bain'] >= 2), 'Type de bien'] = 'Villa'\n",
    "\n",
    "# Step 4: Check missing values after the update (optional, for verification)\n",
    "print(\"Missing values after:\", df['Type de bien'].isnull().sum())"
   ]
  },
  {
   "cell_type": "code",
   "execution_count": 35,
   "metadata": {},
   "outputs": [
    {
     "name": "stdout",
     "output_type": "stream",
     "text": [
      "1589\n",
      "Type de bien\n",
      "villa          1072\n",
      "Maison          481\n",
      "Appartement      36\n",
      "Name: count, dtype: int64\n",
      "Superficie           0\n",
      "Nb_Chambres          0\n",
      "Nb_Salles De bain    0\n",
      "Type de bien         0\n",
      "Localisation         0\n",
      "dtype: int64\n",
      "All missing data handled successfully.\n"
     ]
    }
   ],
   "source": [
    "\n",
    "from sklearn.impute import KNNImputer\n",
    "from sklearn.linear_model import LinearRegression\n",
    "\n",
    "# 1️⃣ Load Data\n",
    "file_path = 'tayara_v3.csv' \n",
    "df = pd.read_csv(file_path)\n",
    "\n",
    "# 2️⃣ Drop 'Date_De_Modification'\n",
    "df.drop(columns=['Date_De_Modification'], inplace=True)\n",
    "\n",
    "# 3️⃣ Handle Missing Values for 'Localisation' using KNN\n",
    "df['Localisation_num'] = df['Localisation'].astype('category').cat.codes  # Convert 'Localisation' to numeric\n",
    "localisation_imputer = KNNImputer(n_neighbors=5)\n",
    "df['Localisation_num'] = localisation_imputer.fit_transform(df[['Localisation_num']])\n",
    "localisation_mapping = dict(enumerate(df['Localisation'].astype('category').cat.categories))\n",
    "df['Localisation'] = df['Localisation_num'].round().astype(int).map(localisation_mapping)\n",
    "df.drop(columns=['Localisation_num'], inplace=True)\n",
    "\n",
    "# 4️⃣ Handle Missing Values for 'Superficie'\n",
    "df['Superficie'] = df.groupby('Type de bien')['Superficie'].transform(lambda x: x.fillna(x.median()))\n",
    "\n",
    "\n",
    "df['Nb_Chambres'] = pd.to_numeric(df['Nb_Chambres'], errors='coerce')\n",
    "\n",
    "# 5️⃣ Handle Missing Values for 'Nb_Chambres'\n",
    "knn_imputer = KNNImputer(n_neighbors=5)\n",
    "df[['Nb_Chambres']] = knn_imputer.fit_transform(df[['Nb_Chambres']])\n",
    "\n",
    "# 6️⃣ Handle Missing Values for 'Nb_Salles De bain'\n",
    "df['Nb_Salles De bain'] = df.groupby(['Type de bien', 'Localisation'])['Nb_Salles De bain'].transform(lambda x: x.fillna(x.mode().iloc[0]) if not x.mode().empty else x.fillna(1))\n",
    "\n",
    "# 7️⃣ Drop rows where 'Type de bien' or 'Localisation' are missing\n",
    "df.dropna(subset=['Type de bien', 'Localisation'], inplace=True)\n",
    "\n",
    "# 🔍 Recheck for NaNs in critical columns\n",
    "print(df[\"Type de bien\"].count())\n",
    "print(df['Type de bien'].value_counts())\n",
    "print(df[['Superficie', 'Nb_Chambres', 'Nb_Salles De bain', 'Type de bien', 'Localisation']].isnull().sum())\n",
    "\n",
    "# 8️⃣ Prepare data for regression\n",
    "X = df.dropna(subset=['Prix'])[['Superficie', 'Nb_Chambres', 'Nb_Salles De bain', 'Type de bien', 'Localisation']]\n",
    "y = df.dropna(subset=['Prix'])['Prix']\n",
    "\n",
    "# 9️⃣ Convert categorical columns to numeric (Type de bien, Localisation)\n",
    "X = pd.get_dummies(X, columns=['Type de bien', 'Localisation'], drop_first=True)\n",
    "\n",
    "# 🔟 Train the regression model\n",
    "regressor = LinearRegression()\n",
    "regressor.fit(X, y)\n",
    "\n",
    "# 1️⃣1️⃣ Prepare X_missing_prix and predict missing 'Prix'\n",
    "X_missing_prix = df.loc[df['Prix'].isnull(), ['Superficie', 'Nb_Chambres', 'Nb_Salles De bain', 'Type de bien', 'Localisation']]\n",
    "\n",
    "# Encode categorical features (Type de bien, Localisation) into dummies\n",
    "X_missing_prix = pd.get_dummies(X_missing_prix, columns=['Type de bien', 'Localisation'], drop_first=True)\n",
    "\n",
    "# Fill NaN in X_missing_prix\n",
    "X_missing_prix.fillna({\n",
    "    'Superficie': df['Superficie'].median(), \n",
    "    'Nb_Chambres': df['Nb_Chambres'].median(), \n",
    "    'Nb_Salles De bain': df['Nb_Salles De bain'].mode().iloc[0]\n",
    "}, inplace=True)\n",
    "\n",
    "# Align columns to match the training data\n",
    "X_missing_prix = X_missing_prix.reindex(columns=X.columns, fill_value=0)\n",
    "\n",
    "# Predict missing 'Prix'\n",
    "predicted_prix = regressor.predict(X_missing_prix)\n",
    "\n",
    "# Update missing prices in the dataframe\n",
    "df.loc[df['Prix'].isnull(), 'Prix'] = predicted_prix\n",
    "\n",
    "# ✅ Final Cleaned Data\n",
    "print(\"All missing data handled successfully.\")\n",
    "\n",
    "\n",
    "# 🔥 Final Cleaned Data\n",
    "df.reset_index(drop=True, inplace=True)\n",
    "\n",
    "# 🗂️ Save cleaned data to CSV\n",
    "df.to_csv('cleaned_tayara.csv', index=False)\n",
    "\n"
   ]
  },
  {
   "cell_type": "code",
   "execution_count": null,
   "metadata": {},
   "outputs": [],
   "source": []
  },
  {
   "cell_type": "code",
   "execution_count": null,
   "metadata": {},
   "outputs": [],
   "source": []
  },
  {
   "cell_type": "code",
   "execution_count": null,
   "metadata": {},
   "outputs": [],
   "source": []
  }
 ],
 "metadata": {
  "kernelspec": {
   "display_name": "Python 3",
   "language": "python",
   "name": "python3"
  },
  "language_info": {
   "codemirror_mode": {
    "name": "ipython",
    "version": 3
   },
   "file_extension": ".py",
   "mimetype": "text/x-python",
   "name": "python",
   "nbconvert_exporter": "python",
   "pygments_lexer": "ipython3",
   "version": "3.11.2"
  }
 },
 "nbformat": 4,
 "nbformat_minor": 2
}
